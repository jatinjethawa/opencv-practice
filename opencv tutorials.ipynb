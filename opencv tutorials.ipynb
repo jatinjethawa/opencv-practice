{
 "cells": [
  {
   "cell_type": "code",
   "execution_count": 1,
   "metadata": {},
   "outputs": [],
   "source": [
    "import cv2"
   ]
  },
  {
   "cell_type": "code",
   "execution_count": 3,
   "metadata": {},
   "outputs": [],
   "source": [
    "img=cv2.imread('E:\\\\aegis\\\\opencv\\\\lena.png')"
   ]
  },
  {
   "cell_type": "code",
   "execution_count": 4,
   "metadata": {},
   "outputs": [],
   "source": [
    "cv2.imshow('output image',img)\n",
    "cv2.waitKey(0)\n",
    "cv2.destroyAllWindows()"
   ]
  },
  {
   "cell_type": "markdown",
   "metadata": {},
   "source": [
    "# how to extract information of image"
   ]
  },
  {
   "cell_type": "code",
   "execution_count": 5,
   "metadata": {},
   "outputs": [
    {
     "name": "stdout",
     "output_type": "stream",
     "text": [
      "(220, 220, 3)\n"
     ]
    }
   ],
   "source": [
    "img=cv2.imread('E:\\\\aegis\\\\opencv\\\\lena.png')\n",
    "cv2.imshow('output image',img)\n",
    "print(img.shape)\n",
    "cv2.waitKey(0)\n",
    "cv2.destroyAllWindows()"
   ]
  },
  {
   "cell_type": "markdown",
   "metadata": {},
   "source": [
    "# so above image height is 220,width is 220, and 3 layers RGB"
   ]
  },
  {
   "cell_type": "markdown",
   "metadata": {},
   "source": [
    "# how to convert RGB to greyscale image"
   ]
  },
  {
   "cell_type": "code",
   "execution_count": 7,
   "metadata": {},
   "outputs": [
    {
     "name": "stdout",
     "output_type": "stream",
     "text": [
      "(220, 220, 3)\n"
     ]
    }
   ],
   "source": [
    "img=cv2.imread('E:\\\\aegis\\\\opencv\\\\lena.png')\n",
    "cv2.imshow('output image',img)\n",
    "print(img.shape)\n",
    "cv2.waitKey(0)\n",
    "\n",
    "grey_img=cv2.cvtColor(img,cv2.COLOR_BGR2GRAY)\n",
    "cv2.imshow('greyimage',grey_img)\n",
    "cv2.waitKey(0)\n",
    "cv2.destroyAllWindows()"
   ]
  },
  {
   "cell_type": "markdown",
   "metadata": {},
   "source": [
    "# ANother simple method"
   ]
  },
  {
   "cell_type": "code",
   "execution_count": 8,
   "metadata": {},
   "outputs": [
    {
     "name": "stdout",
     "output_type": "stream",
     "text": [
      "(220, 220)\n"
     ]
    }
   ],
   "source": [
    "img=cv2.imread('E:\\\\aegis\\\\opencv\\\\lena.png',0)\n",
    "cv2.imshow('grey scale image',img)\n",
    "print(img.shape)\n",
    "cv2.waitKey(0)\n",
    "cv2.destroyAllWindows()"
   ]
  },
  {
   "cell_type": "markdown",
   "metadata": {},
   "source": [
    "# How to convert RGB to BInary image"
   ]
  },
  {
   "cell_type": "markdown",
   "metadata": {},
   "source": [
    "## for converting to binary image,you first need to convert it to grey scale and then you convert it"
   ]
  },
  {
   "cell_type": "code",
   "execution_count": 13,
   "metadata": {},
   "outputs": [
    {
     "name": "stdout",
     "output_type": "stream",
     "text": [
      "(220, 220)\n"
     ]
    }
   ],
   "source": [
    "img=cv2.imread('E:\\\\aegis\\\\opencv\\\\lena.png',0)\n",
    "cv2.imshow('grey scale image',img)\n",
    "print(img.shape)\n",
    "cv2.waitKey(0)\n",
    "\n",
    "ret,bw=cv2.threshold(img,110,220,cv2.THRESH_BINARY)\n",
    "cv2.imshow('binary image',bw)\n",
    "cv2.waitKey(0)\n",
    "cv2.destroyAllWindows()"
   ]
  },
  {
   "cell_type": "markdown",
   "metadata": {},
   "source": [
    "# For pixels less than 110 it will convert it to black,rest to white"
   ]
  },
  {
   "cell_type": "markdown",
   "metadata": {},
   "source": [
    "# How to convert RGB to HSV Color Space ? "
   ]
  },
  {
   "cell_type": "code",
   "execution_count": 15,
   "metadata": {},
   "outputs": [],
   "source": [
    "img=cv2.imread('E:\\\\aegis\\\\opencv\\\\lena.png')\n",
    "img_HSV=cv2.cvtColor(img,cv2.COLOR_BGR2HSV)\n",
    "cv2.imshow('HSV image',img_HSV)\n",
    "cv2.waitKey(0)\n",
    "cv2.imshow('Hue channel',img_HSV[:,:,0])\n",
    "cv2.waitKey(0)\n",
    "cv2.imshow('saturation channel',img_HSV[:,:,1])\n",
    "cv2.waitKey(0)\n",
    "cv2.imshow('value channel',img_HSV[:,:,2])\n",
    "cv2.waitKey(0)\n",
    "cv2.destroyAllWindows()"
   ]
  },
  {
   "cell_type": "markdown",
   "metadata": {},
   "source": [
    "# How to Extract RGB Color Space ?"
   ]
  },
  {
   "cell_type": "code",
   "execution_count": 16,
   "metadata": {},
   "outputs": [],
   "source": [
    "import numpy as np"
   ]
  },
  {
   "cell_type": "code",
   "execution_count": 20,
   "metadata": {},
   "outputs": [],
   "source": [
    "img=cv2.imread('E:\\\\aegis\\\\opencv\\\\lena.png')\n",
    "B,G,R=cv2.split(img)\n",
    "zeros=np.zeros(img.shape[:2],dtype=\"uint8\")\n",
    "cv2.imshow(\"Red\",cv2.merge([zeros,zeros,R]))\n",
    "cv2.waitKey(0)\n",
    "cv2.imshow(\"Blue\",cv2.merge([B,zeros,zeros]))\n",
    "cv2.waitKey(0)\n",
    "cv2.imshow(\"Green\",cv2.merge([zeros,G,zeros]))\n",
    "cv2.waitKey(0)\n",
    "cv2.destroyAllWindows()"
   ]
  },
  {
   "cell_type": "markdown",
   "metadata": {},
   "source": [
    "# Image Translation or Image displacement"
   ]
  },
  {
   "cell_type": "code",
   "execution_count": 26,
   "metadata": {},
   "outputs": [
    {
     "name": "stdout",
     "output_type": "stream",
     "text": [
      "220\n",
      "220\n",
      "55.0\n",
      "55.0\n",
      "[[ 1.  0. 55.]\n",
      " [ 0.  1. 55.]]\n"
     ]
    }
   ],
   "source": [
    "img=cv2.imread('E:\\\\aegis\\\\opencv\\\\lena.png')\n",
    "height,width=img.shape[:2]\n",
    "print(height)\n",
    "print(width)\n",
    "\n",
    "quarter_height,quarter_width=height/4,width/4\n",
    "print(quarter_height)\n",
    "print(quarter_width)\n",
    "\n",
    "T=np.float32([[1,0,quarter_width],\n",
    "             [0,1,quarter_height]])\n",
    "print(T)\n",
    "\n",
    "#we use warpAffine Transformation to shift the image#warpAffine is used for linear image(height and width are parallel to each other)\n",
    "img_translation=cv2.warpAffine(img,T,(width,height))\n",
    "cv2.imshow('orignal',img)\n",
    "cv2.waitKey(0)\n",
    "cv2.imshow('translated',img_translation)\n",
    "cv2.waitKey(0)\n",
    "cv2.destroyAllWindows()"
   ]
  },
  {
   "cell_type": "markdown",
   "metadata": {},
   "source": [
    "# Image Rotation"
   ]
  },
  {
   "cell_type": "code",
   "execution_count": 35,
   "metadata": {},
   "outputs": [],
   "source": [
    "img=img=cv2.imread('E:\\\\aegis\\\\opencv\\\\lena.png')\n",
    "height,width=img.shape[:2]\n",
    "rotation_matrix=cv2.getRotationMatrix2D((width/2,height/2),70,0.5)\n",
    "rotated_image=cv2.warpAffine(img,rotation_matrix,(width,height))\n",
    "cv2.imshow('orignal',img)\n",
    "cv2.waitKey(0)\n",
    "cv2.imshow('rotated',rotated_image)\n",
    "cv2.waitKey(0)\n",
    "cv2.destroyAllWindows()"
   ]
  },
  {
   "cell_type": "markdown",
   "metadata": {},
   "source": [
    "# getRotationMatrix2D takes three arguements reduce the size,angle,scaling factor (more scaling factor more loss of information)"
   ]
  },
  {
   "cell_type": "markdown",
   "metadata": {},
   "source": [
    "# Image transpose"
   ]
  },
  {
   "cell_type": "markdown",
   "metadata": {},
   "source": [
    "# it will rotate the image in 90 degree angle without any information loss and it does not require any other parameter."
   ]
  },
  {
   "cell_type": "code",
   "execution_count": 2,
   "metadata": {},
   "outputs": [],
   "source": [
    "img=img=cv2.imread('E:\\\\aegis\\\\opencv\\\\lena.png')\n",
    "transpose=cv2.transpose(img)\n",
    "cv2.imshow('orignal',img)\n",
    "cv2.waitKey(0)\n",
    "cv2.imshow('rotated',transpose)\n",
    "cv2.waitKey(0)\n",
    "cv2.destroyAllWindows()"
   ]
  },
  {
   "cell_type": "markdown",
   "metadata": {},
   "source": [
    "# Image resizing"
   ]
  },
  {
   "cell_type": "code",
   "execution_count": 2,
   "metadata": {},
   "outputs": [],
   "source": [
    "img=img=cv2.imread('E:\\\\aegis\\\\opencv\\\\lena.png')\n",
    "cv2.imshow('orignal',img)\n",
    "cv2.waitKey(0)\n",
    "#lets make the size of the image 3/4 of the original size\n",
    "img_scaled=cv2.resize(img,None,fx=0.75,fy=0.75)\n",
    "cv2.imshow('scaling-linear interpolation',img_scaled)#linear interpolation is used to reduce the size of image\n",
    "cv2.waitKey(0)\n",
    "#lets double the size of the image\n",
    "img_scaled1=cv2.resize(img,None,fx=2,fy=2,interpolation=cv2.INTER_CUBIC)\n",
    "cv2.imshow('scaling-cubic interpolation',img_scaled1)#cubic interpolation is used to increase the size of image\n",
    "cv2.waitKey(0)\n",
    "\n",
    "#lets skew the resizing by setting exact dimensions\n",
    "img_scaled2=cv2.resize(img,(900,400),interpolation=cv2.INTER_AREA)\n",
    "cv2.imshow('scaling-skewed size',img_scaled2)#INTER_AREA resize the image according to us.\n",
    "cv2.waitKey(0)\n",
    "cv2.destroyAllWindows()"
   ]
  },
  {
   "cell_type": "markdown",
   "metadata": {},
   "source": [
    "# Image pyramid"
   ]
  },
  {
   "cell_type": "markdown",
   "metadata": {},
   "source": [
    "# Image pyramid reduces tyhe size of the image to half without knowing the dimension of the image and inctease the size to double without knowing the dimension."
   ]
  },
  {
   "cell_type": "code",
   "execution_count": 2,
   "metadata": {},
   "outputs": [],
   "source": [
    "img=img=cv2.imread('E:\\\\aegis\\\\opencv\\\\lena.png')\n",
    "smaller_half=cv2.pyrDown(img)\n",
    "doule=cv2.pyrUp(img)\n",
    "cv2.imshow('original',img)\n",
    "cv2.waitKey(0)\n",
    "cv2.imshow('smaller_half',smaller_half)\n",
    "cv2.waitKey(0)\n",
    "cv2.imshow('double',doule)\n",
    "cv2.waitKey(0)\n",
    "cv2.destroyAllWindows()"
   ]
  },
  {
   "cell_type": "markdown",
   "metadata": {},
   "source": [
    "# Image cropping"
   ]
  },
  {
   "cell_type": "code",
   "execution_count": 3,
   "metadata": {},
   "outputs": [],
   "source": [
    "img=img=cv2.imread('E:\\\\aegis\\\\opencv\\\\lena.png')\n",
    "height,width=img.shape[:2]\n",
    "#Lets get the starting pixel coordinates(top left of cropping rectangle)\n",
    "start_row,start_col=int(height*0.10),int(width*0.10)\n",
    "#Lets get the ending coordinates(bottom right)\n",
    "end_row,end_col=int(height*0.75),int(width*0.75)\n",
    "#simply use the indexing to crop the image\n",
    "cropped=img[start_row:end_row,start_col:end_col]\n",
    "cv2.imshow('original',img)\n",
    "cv2.waitKey(0)\n",
    "cv2.imshow('crop_image',cropped)\n",
    "cv2.waitKey(0)\n",
    "cv2.destroyAllWindows()"
   ]
  },
  {
   "cell_type": "markdown",
   "metadata": {},
   "source": [
    "# image arithmatics"
   ]
  },
  {
   "cell_type": "code",
   "execution_count": 5,
   "metadata": {},
   "outputs": [],
   "source": [
    "import numpy as np"
   ]
  },
  {
   "cell_type": "code",
   "execution_count": 6,
   "metadata": {},
   "outputs": [],
   "source": [
    "img=img=cv2.imread('E:\\\\aegis\\\\opencv\\\\lena.png')\n",
    "M=np.ones(img.shape,dtype=\"uint8\") * 150\n",
    "added=cv2.add(img,M)\n",
    "subtracted=cv2.subtract(img,M)\n",
    "multiplication=cv2.multiply(img,M)\n",
    "cv2.imshow('orignal',img)\n",
    "cv2.waitKey(0)\n",
    "cv2.imshow('ADDED',added)\n",
    "cv2.waitKey(0)\n",
    "cv2.imshow('SUBTRACTED',subtracted)\n",
    "cv2.waitKey(0)\n",
    "cv2.imshow('MULTIPLY',multiplication)\n",
    "cv2.waitKey(0)\n",
    "cv2.destroyAllWindows()"
   ]
  },
  {
   "cell_type": "markdown",
   "metadata": {},
   "source": [
    "# As the image pixels increases the image becomes bright, and image pixels becomes decreases image becomes bright."
   ]
  },
  {
   "cell_type": "markdown",
   "metadata": {},
   "source": [
    "# Image blurring"
   ]
  },
  {
   "cell_type": "code",
   "execution_count": 9,
   "metadata": {},
   "outputs": [],
   "source": [
    "img=cv2.imread('E:\\\\aegis\\\\opencv\\\\lena.png')\n",
    "#creating the 3*3 kernel filter\n",
    "kernel=np.ones((3,3),np.float32)/9\n",
    "#we use cv2.filter2D to convolve the kernel with an image\n",
    "blurred=cv2.filter2D(img,-1,kernel)\n",
    "#creating 7*7 kernel filter\n",
    "kernel_77=np.ones((7,7),np.float32)/49\n",
    "more_blurred=cv2.filter2D(img,-1,kernel_77)\n",
    "cv2.imshow('orignal',img)\n",
    "cv2.waitKey(0)\n",
    "cv2.imshow('blurring',blurred)\n",
    "cv2.waitKey(0)\n",
    "cv2.imshow('moreblurring',more_blurred)\n",
    "cv2.waitKey(0)\n",
    "cv2.destroyAllWindows()"
   ]
  },
  {
   "cell_type": "markdown",
   "metadata": {},
   "source": [
    "# Edge detection"
   ]
  },
  {
   "cell_type": "code",
   "execution_count": 2,
   "metadata": {},
   "outputs": [],
   "source": [
    "import numpy as np"
   ]
  },
  {
   "cell_type": "code",
   "execution_count": 9,
   "metadata": {},
   "outputs": [],
   "source": [
    "image=cv2.imread('E:\\\\aegis\\\\opencv\\\\lena.png',0)\n",
    "height,width=image.shape\n",
    "#Extract slope edges\n",
    "sobel_x=cv2.Sobel(image,cv2.CV_64F,1,0,ksize=5)\n",
    "sobel_y=cv2.Sobel(image,cv2.CV_64F,0,1,ksize=5)\n",
    "sobel_or=cv2.bitwise_or(sobel_x,sobel_y)\n",
    "\n",
    "#show immages\n",
    "cv2.imshow('original',image)\n",
    "cv2.waitKey(0)\n",
    "cv2.imshow('sobel X image',sobel_x)\n",
    "cv2.waitKey(0)\n",
    "cv2.imshow('sobel y image',sobel_y)\n",
    "cv2.waitKey(0)\n",
    "cv2.imshow('sobel or image',sobel_or)\n",
    "cv2.waitKey(0)\n",
    "cv2.destroyAllWindows()"
   ]
  },
  {
   "cell_type": "markdown",
   "metadata": {},
   "source": [
    "# Laplacial edge detection"
   ]
  },
  {
   "cell_type": "code",
   "execution_count": 10,
   "metadata": {},
   "outputs": [],
   "source": [
    "laplaced=cv2.Laplacian(img,cv2.CV_64F)\n",
    "cv2.imshow('laplaced image',laplaced)\n",
    "cv2.waitKey(0)\n",
    "cv2.destroyAllWindows()"
   ]
  },
  {
   "cell_type": "markdown",
   "metadata": {},
   "source": [
    "# Canny edge deection(efficient one)"
   ]
  },
  {
   "cell_type": "code",
   "execution_count": 18,
   "metadata": {},
   "outputs": [],
   "source": [
    "#cannny edge detection uses gradient values as thresholds\n",
    "canny=cv2.Canny(img,20,180)\n",
    "cv2.imshow('canny image',canny)\n",
    "cv2.waitKey(0)\n",
    "cv2.destroyAllWindows()"
   ]
  },
  {
   "cell_type": "markdown",
   "metadata": {},
   "source": [
    "# Video capture through opencv"
   ]
  },
  {
   "cell_type": "code",
   "execution_count": 20,
   "metadata": {},
   "outputs": [],
   "source": [
    "cap=cv2.VideoCapture(0)\n",
    "while True:\n",
    "    ret,frame=cap.read()\n",
    "    cv2.imshow('our live sketch',frame)\n",
    "    if cv2.waitKey(1)==13:\n",
    "        break\n",
    "cap.release()\n",
    "cv2.destroyAllWindows()"
   ]
  },
  {
   "cell_type": "markdown",
   "metadata": {},
   "source": [
    "# image capture"
   ]
  },
  {
   "cell_type": "code",
   "execution_count": 5,
   "metadata": {},
   "outputs": [],
   "source": [
    "import matplotlib.pyplot as plt"
   ]
  },
  {
   "cell_type": "code",
   "execution_count": 8,
   "metadata": {},
   "outputs": [
    {
     "data": {
      "image/png": "[encoded data removed]",
      "text/plain": [
       "<matplotlib.figure.Figure at 0x20e673ae3c8>"
      ]
     },
     "metadata": {},
     "output_type": "display_data"
    }
   ],
   "source": [
    "cap=cv2.VideoCapture(0)\n",
    "if cap.isOpened():\n",
    "    ret,frame=cap.read()\n",
    "else:\n",
    "    ret = False\n",
    "img1=cv2.cvtColor(frame,cv2.COLOR_BGR2RGB)\n",
    "\n",
    "plt.imshow(img1)\n",
    "plt.title(\"camera-image\")\n",
    "plt.xticks([])\n",
    "plt.yticks([])\n",
    "plt.show()\n",
    "cap.release()\n",
    "cv2.destroyAllWindows()\n"
   ]
  },
  {
   "cell_type": "markdown",
   "metadata": {},
   "source": [
    "# edge dtection in while live video streaming"
   ]
  },
  {
   "cell_type": "code",
   "execution_count": 40,
   "metadata": {},
   "outputs": [],
   "source": [
    "def sketch(image):\n",
    "    img_grey=cv2.cvtColor(image,cv2.COLOR_BGR2GRAY)\n",
    "    img_grey_blur=cv2.GaussianBlur(img_grey,(5,5),0)\n",
    "    cannyedge=cv2.Canny(img_grey_blur,20,170)\n",
    "    ret,mask=cv2.threshold(cannyedge,90,255,cv2.THRESH_BINARY)\n",
    "    return mask\n",
    "cap=cv2.VideoCapture(0)\n",
    "while True:\n",
    "    ret,frame=cap.read()\n",
    "    cv2.imshow('our live sketch',sketch(frame))\n",
    "    if cv2.waitKey(1)==13:\n",
    "        break\n",
    "cap.release()\n",
    "cv2.destroyAllWindows()"
   ]
  },
  {
   "cell_type": "markdown",
   "metadata": {},
   "source": [
    "# color filtering using webcam"
   ]
  },
  {
   "cell_type": "code",
   "execution_count": 43,
   "metadata": {},
   "outputs": [],
   "source": [
    "cap=cv2.VideoCapture(0)\n",
    "while True:\n",
    "    ret,frame=cap.read()\n",
    "    hsv=cv2.cvtColor(frame,cv2.COLOR_BGR2HSV)\n",
    "    lower_range=np.array([0,50,50])\n",
    "    upper_range=np.array([10,255,255])\n",
    "    mask=cv2.inRange(hsv,lower_range,upper_range)\n",
    "    cv2.imshow('show',mask)\n",
    "    cv2.imshow('show1',frame)\n",
    "    if cv2.waitKey(1)==13:\n",
    "        break\n",
    "cap.release()\n",
    "cv2.destroyAllWindows() "
   ]
  },
  {
   "cell_type": "markdown",
   "metadata": {},
   "source": [
    "# a side note, in OpenCV H has values from 0 to 180, S and V from 0 to 255. The red color, in OpenCV, has the hue values approximately in the range of 0 to 10 and 160 to 180."
   ]
  },
  {
   "cell_type": "markdown",
   "metadata": {},
   "source": [
    "# Image sharpening"
   ]
  },
  {
   "cell_type": "code",
   "execution_count": 3,
   "metadata": {},
   "outputs": [],
   "source": [
    "image=cv2.imread('E:\\\\aegis\\\\opencv\\\\lena.png')\n",
    "cv2.imshow('original',image)\n",
    "cv2.waitKey(0)\n",
    "#creating our sharpening email,we dont normalize since the values in the matrix sum to 1\n",
    "kernel_sharpening=np.array([[-1,-1,-1,-1,-1],\n",
    "                           [-1,-1,-1,-1,-1],\n",
    "                           [-1,-1,25,-1,-1],\n",
    "                           [-1,-1,-1,-1,-1],\n",
    "                           [-1,-1,-1,-1,-1]])\n",
    "\n",
    "#applying different kernel to the different image\n",
    "sharpened=cv2.filter2D(image,-1,kernel_sharpening)\n",
    "cv2.imshow('sharpening',sharpened)\n",
    "cv2.waitKey(0)\n",
    "cv2.destroyAllWindows() "
   ]
  },
  {
   "cell_type": "code",
   "execution_count": 9,
   "metadata": {},
   "outputs": [],
   "source": [
    "#using 3*3 filter gives better image\n",
    "image=cv2.imread('E:\\\\aegis\\\\opencv\\\\lena.png')\n",
    "cv2.imshow('original',image)\n",
    "cv2.waitKey(0)\n",
    "#creating our sharpening email,we dont normalize since the values in the matrix sum to 1\n",
    "kernel_sharpening=np.array([[-1,-1,-1],\n",
    "                           [-1,9,-1],\n",
    "                           [-1,-1,-1]])\n",
    "\n",
    "#applying different kernel to the different image\n",
    "sharpened=cv2.filter2D(image,-1,kernel_sharpening)\n",
    "cv2.imshow('sharpening',sharpened)\n",
    "cv2.waitKey(0)\n",
    "cv2.destroyAllWindows() "
   ]
  },
  {
   "cell_type": "code",
   "execution_count": null,
   "metadata": {},
   "outputs": [],
   "source": []
  }
 ],
 "metadata": {
  "kernelspec": {
   "display_name": "Python 3",
   "language": "python",
   "name": "python3"
  },
  "language_info": {
   "codemirror_mode": {
    "name": "ipython",
    "version": 3
   },
   "file_extension": ".py",
   "mimetype": "text/x-python",
   "name": "python",
   "nbconvert_exporter": "python",
   "pygments_lexer": "ipython3",
   "version": "3.6.4"
  }
 },
 "nbformat": 4,
 "nbformat_minor": 2
}
